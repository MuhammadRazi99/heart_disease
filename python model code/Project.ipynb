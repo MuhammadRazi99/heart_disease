{
  "cells": [
    {
      "attachments": {},
      "cell_type": "markdown",
      "id": "df449c05",
      "metadata": {
        "id": "df449c05"
      },
      "source": [
        "# CEP: Heart Disease Detection"
      ]
    },
    {
      "attachments": {},
      "cell_type": "markdown",
      "id": "9323f100",
      "metadata": {
        "id": "9323f100"
      },
      "source": [
        "## Import Libraries"
      ]
    },
    {
      "attachments": {},
      "cell_type": "markdown",
      "id": "dfaeeec4",
      "metadata": {
        "id": "dfaeeec4"
      },
      "source": [
        "importing the important libraries"
      ]
    },
    {
      "cell_type": "code",
      "execution_count": 1,
      "id": "eeeb1547",
      "metadata": {
        "id": "eeeb1547"
      },
      "outputs": [],
      "source": [
        "import pandas as pd\n",
        "import numpy as np\n",
        "import matplotlib.pyplot as plt\n",
        "import seaborn as sns\n",
        "from sklearn.preprocessing import LabelEncoder,OneHotEncoder,StandardScaler\n",
        "from sklearn import metrics\n",
        "from sklearn.model_selection import train_test_split,GridSearchCV\n",
        "from sklearn.linear_model import LogisticRegression\n",
        "from sklearn.tree import DecisionTreeClassifier\n",
        "from sklearn.ensemble import RandomForestClassifier\n",
        "from sklearn.neighbors import KNeighborsClassifier\n",
        "from sklearn.svm import SVC\n",
        "from sklearn.metrics import classification_report\n",
        "import warnings\n",
        "warnings.filterwarnings('ignore')"
      ]
    },
    {
      "attachments": {},
      "cell_type": "markdown",
      "id": "17e96395",
      "metadata": {
        "id": "17e96395"
      },
      "source": [
        "## Import Dataset"
      ]
    },
    {
      "attachments": {},
      "cell_type": "markdown",
      "id": "4dcc91bc",
      "metadata": {
        "id": "4dcc91bc"
      },
      "source": [
        "importing heart dataset"
      ]
    },
    {
      "cell_type": "code",
      "execution_count": 2,
      "id": "f336afe6",
      "metadata": {
        "colab": {
          "base_uri": "https://localhost:8080/",
          "height": 206
        },
        "id": "f336afe6",
        "outputId": "ff0be354-fb9d-469f-d79f-e9d2e7877095"
      },
      "outputs": [
        {
          "data": {
            "text/html": [
              "<div>\n",
              "<style scoped>\n",
              "    .dataframe tbody tr th:only-of-type {\n",
              "        vertical-align: middle;\n",
              "    }\n",
              "\n",
              "    .dataframe tbody tr th {\n",
              "        vertical-align: top;\n",
              "    }\n",
              "\n",
              "    .dataframe thead th {\n",
              "        text-align: right;\n",
              "    }\n",
              "</style>\n",
              "<table border=\"1\" class=\"dataframe\">\n",
              "  <thead>\n",
              "    <tr style=\"text-align: right;\">\n",
              "      <th></th>\n",
              "      <th>Age</th>\n",
              "      <th>Sex</th>\n",
              "      <th>ChestPainType</th>\n",
              "      <th>RestingBP</th>\n",
              "      <th>Cholesterol</th>\n",
              "      <th>FastingBS</th>\n",
              "      <th>RestingECG</th>\n",
              "      <th>MaxHR</th>\n",
              "      <th>ExerciseAngina</th>\n",
              "      <th>Oldpeak</th>\n",
              "      <th>ST_Slope</th>\n",
              "      <th>HeartDisease</th>\n",
              "    </tr>\n",
              "  </thead>\n",
              "  <tbody>\n",
              "    <tr>\n",
              "      <th>0</th>\n",
              "      <td>40</td>\n",
              "      <td>M</td>\n",
              "      <td>ATA</td>\n",
              "      <td>140</td>\n",
              "      <td>289</td>\n",
              "      <td>0</td>\n",
              "      <td>Normal</td>\n",
              "      <td>172</td>\n",
              "      <td>N</td>\n",
              "      <td>0.0</td>\n",
              "      <td>Up</td>\n",
              "      <td>0</td>\n",
              "    </tr>\n",
              "    <tr>\n",
              "      <th>1</th>\n",
              "      <td>49</td>\n",
              "      <td>F</td>\n",
              "      <td>NAP</td>\n",
              "      <td>160</td>\n",
              "      <td>180</td>\n",
              "      <td>0</td>\n",
              "      <td>Normal</td>\n",
              "      <td>156</td>\n",
              "      <td>N</td>\n",
              "      <td>1.0</td>\n",
              "      <td>Flat</td>\n",
              "      <td>1</td>\n",
              "    </tr>\n",
              "    <tr>\n",
              "      <th>2</th>\n",
              "      <td>37</td>\n",
              "      <td>M</td>\n",
              "      <td>ATA</td>\n",
              "      <td>130</td>\n",
              "      <td>283</td>\n",
              "      <td>0</td>\n",
              "      <td>ST</td>\n",
              "      <td>98</td>\n",
              "      <td>N</td>\n",
              "      <td>0.0</td>\n",
              "      <td>Up</td>\n",
              "      <td>0</td>\n",
              "    </tr>\n",
              "    <tr>\n",
              "      <th>3</th>\n",
              "      <td>48</td>\n",
              "      <td>F</td>\n",
              "      <td>ASY</td>\n",
              "      <td>138</td>\n",
              "      <td>214</td>\n",
              "      <td>0</td>\n",
              "      <td>Normal</td>\n",
              "      <td>108</td>\n",
              "      <td>Y</td>\n",
              "      <td>1.5</td>\n",
              "      <td>Flat</td>\n",
              "      <td>1</td>\n",
              "    </tr>\n",
              "    <tr>\n",
              "      <th>4</th>\n",
              "      <td>54</td>\n",
              "      <td>M</td>\n",
              "      <td>NAP</td>\n",
              "      <td>150</td>\n",
              "      <td>195</td>\n",
              "      <td>0</td>\n",
              "      <td>Normal</td>\n",
              "      <td>122</td>\n",
              "      <td>N</td>\n",
              "      <td>0.0</td>\n",
              "      <td>Up</td>\n",
              "      <td>0</td>\n",
              "    </tr>\n",
              "  </tbody>\n",
              "</table>\n",
              "</div>"
            ],
            "text/plain": [
              "   Age Sex ChestPainType  RestingBP  Cholesterol  FastingBS RestingECG  MaxHR  \\\n",
              "0   40   M           ATA        140          289          0     Normal    172   \n",
              "1   49   F           NAP        160          180          0     Normal    156   \n",
              "2   37   M           ATA        130          283          0         ST     98   \n",
              "3   48   F           ASY        138          214          0     Normal    108   \n",
              "4   54   M           NAP        150          195          0     Normal    122   \n",
              "\n",
              "  ExerciseAngina  Oldpeak ST_Slope  HeartDisease  \n",
              "0              N      0.0       Up             0  \n",
              "1              N      1.0     Flat             1  \n",
              "2              N      0.0       Up             0  \n",
              "3              Y      1.5     Flat             1  \n",
              "4              N      0.0       Up             0  "
            ]
          },
          "execution_count": 2,
          "metadata": {},
          "output_type": "execute_result"
        }
      ],
      "source": [
        "heartdf=pd.read_csv(\"heart.csv\")\n",
        "heartdf.head()"
      ]
    },
    {
      "attachments": {},
      "cell_type": "markdown",
      "id": "81c27417",
      "metadata": {
        "id": "81c27417"
      },
      "source": [
        "# Task 1: Feature Engineering"
      ]
    },
    {
      "attachments": {},
      "cell_type": "markdown",
      "id": "278b58e9",
      "metadata": {
        "id": "278b58e9"
      },
      "source": [
        "## Preprocessing"
      ]
    },
    {
      "attachments": {},
      "cell_type": "markdown",
      "id": "c4a07f11",
      "metadata": {
        "id": "c4a07f11"
      },
      "source": [
        "### Dealing With Null Values"
      ]
    },
    {
      "attachments": {},
      "cell_type": "markdown",
      "id": "52c92bd4",
      "metadata": {
        "id": "52c92bd4"
      },
      "source": [
        "Here, we are checking the null values. In this dataset there is no null values."
      ]
    },
    {
      "cell_type": "code",
      "execution_count": 3,
      "id": "a72038b4",
      "metadata": {
        "colab": {
          "base_uri": "https://localhost:8080/"
        },
        "id": "a72038b4",
        "outputId": "d36421b5-9498-4b10-a862-229330eb9344"
      },
      "outputs": [
        {
          "data": {
            "text/plain": [
              "Age               0\n",
              "Sex               0\n",
              "ChestPainType     0\n",
              "RestingBP         0\n",
              "Cholesterol       0\n",
              "FastingBS         0\n",
              "RestingECG        0\n",
              "MaxHR             0\n",
              "ExerciseAngina    0\n",
              "Oldpeak           0\n",
              "ST_Slope          0\n",
              "HeartDisease      0\n",
              "dtype: int64"
            ]
          },
          "execution_count": 3,
          "metadata": {},
          "output_type": "execute_result"
        }
      ],
      "source": [
        "heartdf.isna().sum()"
      ]
    },
    {
      "attachments": {},
      "cell_type": "markdown",
      "id": "e1bf68a5",
      "metadata": {
        "id": "e1bf68a5"
      },
      "source": [
        "### Dealing with Different Data types"
      ]
    },
    {
      "attachments": {},
      "cell_type": "markdown",
      "id": "8f51e3db",
      "metadata": {
        "id": "8f51e3db"
      },
      "source": [
        "Here, we are checking if there is wrong data type or data type need to be changed"
      ]
    },
    {
      "cell_type": "code",
      "execution_count": 4,
      "id": "a69a29c2",
      "metadata": {
        "colab": {
          "base_uri": "https://localhost:8080/"
        },
        "id": "a69a29c2",
        "outputId": "63fa6156-5df2-4f46-f684-5ade3afd1dab"
      },
      "outputs": [
        {
          "data": {
            "text/plain": [
              "Age                 int64\n",
              "Sex                object\n",
              "ChestPainType      object\n",
              "RestingBP           int64\n",
              "Cholesterol         int64\n",
              "FastingBS           int64\n",
              "RestingECG         object\n",
              "MaxHR               int64\n",
              "ExerciseAngina     object\n",
              "Oldpeak           float64\n",
              "ST_Slope           object\n",
              "HeartDisease        int64\n",
              "dtype: object"
            ]
          },
          "execution_count": 4,
          "metadata": {},
          "output_type": "execute_result"
        }
      ],
      "source": [
        "heartdf.dtypes"
      ]
    },
    {
      "attachments": {},
      "cell_type": "markdown",
      "id": "b847aa59",
      "metadata": {
        "id": "b847aa59"
      },
      "source": [
        "### Dealing with Wrong Data"
      ]
    },
    {
      "attachments": {},
      "cell_type": "markdown",
      "id": "840681fd",
      "metadata": {
        "id": "840681fd"
      },
      "source": [
        "Here, we are checking if the data entered is wronged. (There is no wrong data.)"
      ]
    },
    {
      "cell_type": "code",
      "execution_count": 5,
      "id": "144efc12",
      "metadata": {
        "colab": {
          "base_uri": "https://localhost:8080/"
        },
        "id": "144efc12",
        "outputId": "601e6c58-7d59-4fd1-ec05-fc662445d8ae"
      },
      "outputs": [
        {
          "data": {
            "text/plain": [
              "Age               0\n",
              "Sex               0\n",
              "ChestPainType     0\n",
              "RestingBP         0\n",
              "Cholesterol       0\n",
              "FastingBS         0\n",
              "RestingECG        0\n",
              "MaxHR             0\n",
              "ExerciseAngina    0\n",
              "Oldpeak           0\n",
              "ST_Slope          0\n",
              "HeartDisease      0\n",
              "dtype: int64"
            ]
          },
          "execution_count": 5,
          "metadata": {},
          "output_type": "execute_result"
        }
      ],
      "source": [
        "heartdf[\"Age\"] = heartdf[\"Age\"].apply(lambda x: np.nan if x == 0 else x)\n",
        "heartdf[\"Sex\"] = heartdf[\"Sex\"].apply(lambda x: np.nan if (str(x) != 'M' and str(x) != 'F') else x)\n",
        "heartdf[\"HeartDisease\"] = heartdf[\"HeartDisease\"].apply(lambda x: np.nan if (x != 0 and x != 1) else x)\n",
        "heartdf.isna().sum()"
      ]
    },
    {
      "attachments": {},
      "cell_type": "markdown",
      "id": "c52bf91f",
      "metadata": {
        "id": "c52bf91f"
      },
      "source": [
        "### Dealing With Duplicated Values"
      ]
    },
    {
      "attachments": {},
      "cell_type": "markdown",
      "id": "d6140ee6",
      "metadata": {
        "id": "d6140ee6"
      },
      "source": [
        "Here, we are checking the duplicated values."
      ]
    },
    {
      "cell_type": "code",
      "execution_count": 6,
      "id": "3599b6a7",
      "metadata": {
        "colab": {
          "base_uri": "https://localhost:8080/"
        },
        "id": "3599b6a7",
        "outputId": "23a75bd1-0aa6-40b2-ee41-c15264d3620c"
      },
      "outputs": [
        {
          "data": {
            "text/plain": [
              "0"
            ]
          },
          "execution_count": 6,
          "metadata": {},
          "output_type": "execute_result"
        }
      ],
      "source": [
        "heartdf.duplicated().sum()"
      ]
    },
    {
      "attachments": {},
      "cell_type": "markdown",
      "id": "0a2c1b26",
      "metadata": {
        "id": "0a2c1b26"
      },
      "source": [
        "### Dealing With Unique Values"
      ]
    },
    {
      "attachments": {},
      "cell_type": "markdown",
      "id": "193e11d3",
      "metadata": {
        "id": "193e11d3"
      },
      "source": [
        "Here, we are checking if there is any attribute whose unique value is 1 or manual checking wrong input."
      ]
    },
    {
      "cell_type": "code",
      "execution_count": 7,
      "id": "aa6a7649",
      "metadata": {
        "colab": {
          "base_uri": "https://localhost:8080/"
        },
        "id": "aa6a7649",
        "outputId": "ca2c4e9f-599f-4d75-b35d-a9347c0a1118"
      },
      "outputs": [
        {
          "name": "stdout",
          "output_type": "stream",
          "text": [
            "Age= [40 49 37 48 54 39 45 58 42 38 43 60 36 44 53 52 51 56 41 32 65 35 59 50\n",
            " 47 31 46 57 55 63 66 34 33 61 29 62 28 30 74 68 72 64 69 67 73 70 77 75\n",
            " 76 71]\n",
            "Sex= ['M' 'F']\n",
            "ChestPainType= ['ATA' 'NAP' 'ASY' 'TA']\n",
            "RestingBP= [140 160 130 138 150 120 110 136 115 100 124 113 125 145 112 132 118 170\n",
            " 142 190 135 180 108 155 128 106  92 200 122  98 105 133  95  80 137 185\n",
            " 165 126 152 116   0 144 154 134 104 139 131 141 178 146 158 123 102  96\n",
            " 143 172 156 114 127 101 174  94 148 117 192 129 164]\n",
            "Cholesterol= [289 180 283 214 195 339 237 208 207 284 211 164 204 234 273 196 201 248\n",
            " 267 223 184 288 215 209 260 468 188 518 167 224 172 186 254 306 250 177\n",
            " 227 230 294 264 259 175 318 216 340 233 205 245 194 270 213 365 342 253\n",
            " 277 202 297 225 246 412 265 182 218 268 163 529 100 206 238 139 263 291\n",
            " 229 307 210 329 147  85 269 275 179 392 466 129 241 255 276 282 338 160\n",
            " 156 272 240 393 161 228 292 388 166 247 331 341 243 279 198 249 168 603\n",
            " 159 190 185 290 212 231 222 235 320 187 266 287 404 312 251 328 285 280\n",
            " 192 193 308 219 257 132 226 217 303 298 256 117 295 173 315 281 309 200\n",
            " 336 355 326 171 491 271 274 394 221 126 305 220 242 347 344 358 169 181\n",
            "   0 236 203 153 316 311 252 458 384 258 349 142 197 113 261 310 232 110\n",
            " 123 170 369 152 244 165 337 300 333 385 322 564 239 293 407 149 199 417\n",
            " 178 319 354 330 302 313 141 327 304 286 360 262 325 299 409 174 183 321\n",
            " 353 335 278 157 176 131]\n",
            "FastingBS= [0 1]\n",
            "RestingECG= ['Normal' 'ST' 'LVH']\n",
            "MaxHR= [172 156  98 108 122 170 142 130 120  99 145 140 137 150 166 165 125 160\n",
            " 164 138 178 112 118 127 114 154 155  87 148 100 168 184 121 153 134  96\n",
            " 174 175 144  82 135 115 128 116  94 110  92 180 152 124 106 185 139 190\n",
            " 146 158 132 176 119 188 162 105  90 136 167 129 102 143 103  91 126  93\n",
            " 131 149 123 182 141  77 109 133 179 113 104  95  72  97 117  86  63 157\n",
            "  83  60  70 163  67  78  84 111  80 107 161  69  88  73 159 151 181 186\n",
            " 177 173 169 171 147  71 192 195 194 187 202]\n",
            "ExerciseAngina= ['N' 'Y']\n",
            "Oldpeak= [ 0.   1.   1.5  2.   3.   4.   0.5  2.5  5.   0.8  0.7  1.4  2.1  0.4\n",
            "  0.2  1.7  2.2  0.1  1.6  1.3  0.3  1.8  2.6 -0.9  2.8 -2.6 -1.5 -0.1\n",
            "  0.9  1.1  2.4 -1.  -1.1 -0.7 -0.8  3.7  1.2 -0.5 -2.   1.9  3.5  0.6\n",
            "  3.1  2.3  3.4  3.6  4.2  3.2  5.6  3.8  2.9  6.2  4.4]\n",
            "ST_Slope= ['Up' 'Flat' 'Down']\n",
            "HeartDisease= [0 1]\n"
          ]
        }
      ],
      "source": [
        "for i in heartdf.columns:\n",
        "    print(i+\"= \"+str(heartdf[i].unique()))"
      ]
    },
    {
      "attachments": {},
      "cell_type": "markdown",
      "id": "73c19809",
      "metadata": {
        "id": "73c19809"
      },
      "source": [
        "### One Hot Encoder"
      ]
    },
    {
      "attachments": {},
      "cell_type": "markdown",
      "id": "2625e93b",
      "metadata": {
        "id": "2625e93b"
      },
      "source": [
        "We are changing categorical data into numeric data."
      ]
    },
    {
      "cell_type": "code",
      "execution_count": 8,
      "id": "725740a0",
      "metadata": {
        "colab": {
          "base_uri": "https://localhost:8080/",
          "height": 300
        },
        "id": "725740a0",
        "outputId": "4f6387c1-69f8-415d-ce8d-d6ddb0d55fda"
      },
      "outputs": [
        {
          "data": {
            "text/html": [
              "<div>\n",
              "<style scoped>\n",
              "    .dataframe tbody tr th:only-of-type {\n",
              "        vertical-align: middle;\n",
              "    }\n",
              "\n",
              "    .dataframe tbody tr th {\n",
              "        vertical-align: top;\n",
              "    }\n",
              "\n",
              "    .dataframe thead th {\n",
              "        text-align: right;\n",
              "    }\n",
              "</style>\n",
              "<table border=\"1\" class=\"dataframe\">\n",
              "  <thead>\n",
              "    <tr style=\"text-align: right;\">\n",
              "      <th></th>\n",
              "      <th>Age</th>\n",
              "      <th>RestingBP</th>\n",
              "      <th>Cholesterol</th>\n",
              "      <th>FastingBS</th>\n",
              "      <th>MaxHR</th>\n",
              "      <th>Oldpeak</th>\n",
              "      <th>HeartDisease</th>\n",
              "      <th>Sex_F</th>\n",
              "      <th>Sex_M</th>\n",
              "      <th>ChestPainType_ASY</th>\n",
              "      <th>...</th>\n",
              "      <th>ChestPainType_NAP</th>\n",
              "      <th>ChestPainType_TA</th>\n",
              "      <th>RestingECG_LVH</th>\n",
              "      <th>RestingECG_Normal</th>\n",
              "      <th>RestingECG_ST</th>\n",
              "      <th>ExerciseAngina_N</th>\n",
              "      <th>ExerciseAngina_Y</th>\n",
              "      <th>ST_Slope_Down</th>\n",
              "      <th>ST_Slope_Flat</th>\n",
              "      <th>ST_Slope_Up</th>\n",
              "    </tr>\n",
              "  </thead>\n",
              "  <tbody>\n",
              "    <tr>\n",
              "      <th>0</th>\n",
              "      <td>40</td>\n",
              "      <td>140</td>\n",
              "      <td>289</td>\n",
              "      <td>0</td>\n",
              "      <td>172</td>\n",
              "      <td>0.0</td>\n",
              "      <td>0</td>\n",
              "      <td>0.0</td>\n",
              "      <td>1.0</td>\n",
              "      <td>0.0</td>\n",
              "      <td>...</td>\n",
              "      <td>0.0</td>\n",
              "      <td>0.0</td>\n",
              "      <td>0.0</td>\n",
              "      <td>1.0</td>\n",
              "      <td>0.0</td>\n",
              "      <td>1.0</td>\n",
              "      <td>0.0</td>\n",
              "      <td>0.0</td>\n",
              "      <td>0.0</td>\n",
              "      <td>1.0</td>\n",
              "    </tr>\n",
              "    <tr>\n",
              "      <th>1</th>\n",
              "      <td>49</td>\n",
              "      <td>160</td>\n",
              "      <td>180</td>\n",
              "      <td>0</td>\n",
              "      <td>156</td>\n",
              "      <td>1.0</td>\n",
              "      <td>1</td>\n",
              "      <td>1.0</td>\n",
              "      <td>0.0</td>\n",
              "      <td>0.0</td>\n",
              "      <td>...</td>\n",
              "      <td>1.0</td>\n",
              "      <td>0.0</td>\n",
              "      <td>0.0</td>\n",
              "      <td>1.0</td>\n",
              "      <td>0.0</td>\n",
              "      <td>1.0</td>\n",
              "      <td>0.0</td>\n",
              "      <td>0.0</td>\n",
              "      <td>1.0</td>\n",
              "      <td>0.0</td>\n",
              "    </tr>\n",
              "    <tr>\n",
              "      <th>2</th>\n",
              "      <td>37</td>\n",
              "      <td>130</td>\n",
              "      <td>283</td>\n",
              "      <td>0</td>\n",
              "      <td>98</td>\n",
              "      <td>0.0</td>\n",
              "      <td>0</td>\n",
              "      <td>0.0</td>\n",
              "      <td>1.0</td>\n",
              "      <td>0.0</td>\n",
              "      <td>...</td>\n",
              "      <td>0.0</td>\n",
              "      <td>0.0</td>\n",
              "      <td>0.0</td>\n",
              "      <td>0.0</td>\n",
              "      <td>1.0</td>\n",
              "      <td>1.0</td>\n",
              "      <td>0.0</td>\n",
              "      <td>0.0</td>\n",
              "      <td>0.0</td>\n",
              "      <td>1.0</td>\n",
              "    </tr>\n",
              "    <tr>\n",
              "      <th>3</th>\n",
              "      <td>48</td>\n",
              "      <td>138</td>\n",
              "      <td>214</td>\n",
              "      <td>0</td>\n",
              "      <td>108</td>\n",
              "      <td>1.5</td>\n",
              "      <td>1</td>\n",
              "      <td>1.0</td>\n",
              "      <td>0.0</td>\n",
              "      <td>1.0</td>\n",
              "      <td>...</td>\n",
              "      <td>0.0</td>\n",
              "      <td>0.0</td>\n",
              "      <td>0.0</td>\n",
              "      <td>1.0</td>\n",
              "      <td>0.0</td>\n",
              "      <td>0.0</td>\n",
              "      <td>1.0</td>\n",
              "      <td>0.0</td>\n",
              "      <td>1.0</td>\n",
              "      <td>0.0</td>\n",
              "    </tr>\n",
              "    <tr>\n",
              "      <th>4</th>\n",
              "      <td>54</td>\n",
              "      <td>150</td>\n",
              "      <td>195</td>\n",
              "      <td>0</td>\n",
              "      <td>122</td>\n",
              "      <td>0.0</td>\n",
              "      <td>0</td>\n",
              "      <td>0.0</td>\n",
              "      <td>1.0</td>\n",
              "      <td>0.0</td>\n",
              "      <td>...</td>\n",
              "      <td>1.0</td>\n",
              "      <td>0.0</td>\n",
              "      <td>0.0</td>\n",
              "      <td>1.0</td>\n",
              "      <td>0.0</td>\n",
              "      <td>1.0</td>\n",
              "      <td>0.0</td>\n",
              "      <td>0.0</td>\n",
              "      <td>0.0</td>\n",
              "      <td>1.0</td>\n",
              "    </tr>\n",
              "  </tbody>\n",
              "</table>\n",
              "<p>5 rows × 21 columns</p>\n",
              "</div>"
            ],
            "text/plain": [
              "   Age  RestingBP  Cholesterol  FastingBS  MaxHR  Oldpeak  HeartDisease  \\\n",
              "0   40        140          289          0    172      0.0             0   \n",
              "1   49        160          180          0    156      1.0             1   \n",
              "2   37        130          283          0     98      0.0             0   \n",
              "3   48        138          214          0    108      1.5             1   \n",
              "4   54        150          195          0    122      0.0             0   \n",
              "\n",
              "   Sex_F  Sex_M  ChestPainType_ASY  ...  ChestPainType_NAP  ChestPainType_TA  \\\n",
              "0    0.0    1.0                0.0  ...                0.0               0.0   \n",
              "1    1.0    0.0                0.0  ...                1.0               0.0   \n",
              "2    0.0    1.0                0.0  ...                0.0               0.0   \n",
              "3    1.0    0.0                1.0  ...                0.0               0.0   \n",
              "4    0.0    1.0                0.0  ...                1.0               0.0   \n",
              "\n",
              "   RestingECG_LVH  RestingECG_Normal  RestingECG_ST  ExerciseAngina_N  \\\n",
              "0             0.0                1.0            0.0               1.0   \n",
              "1             0.0                1.0            0.0               1.0   \n",
              "2             0.0                0.0            1.0               1.0   \n",
              "3             0.0                1.0            0.0               0.0   \n",
              "4             0.0                1.0            0.0               1.0   \n",
              "\n",
              "   ExerciseAngina_Y  ST_Slope_Down  ST_Slope_Flat  ST_Slope_Up  \n",
              "0               0.0            0.0            0.0          1.0  \n",
              "1               0.0            0.0            1.0          0.0  \n",
              "2               0.0            0.0            0.0          1.0  \n",
              "3               1.0            0.0            1.0          0.0  \n",
              "4               0.0            0.0            0.0          1.0  \n",
              "\n",
              "[5 rows x 21 columns]"
            ]
          },
          "execution_count": 8,
          "metadata": {},
          "output_type": "execute_result"
        }
      ],
      "source": [
        "encoder=OneHotEncoder(sparse_output=False)\n",
        "columns_to_encode=[\"Sex\",\"ChestPainType\",\"RestingECG\",\"ExerciseAngina\",\"ST_Slope\"]\n",
        "encoded_df=pd.DataFrame(encoder.fit_transform(heartdf[columns_to_encode]),columns=encoder.get_feature_names_out(columns_to_encode))\n",
        "heartdf.drop(columns_to_encode,axis=1,inplace=True)\n",
        "heartdf=pd.concat([heartdf,encoded_df],axis=1)\n",
        "heartdf.head()"
      ]
    },
    {
      "attachments": {},
      "cell_type": "markdown",
      "id": "910d37f9",
      "metadata": {
        "id": "910d37f9"
      },
      "source": [
        "### Normalization"
      ]
    },
    {
      "attachments": {},
      "cell_type": "markdown",
      "id": "07d35513",
      "metadata": {
        "id": "07d35513"
      },
      "source": [
        "Here, we are normalizing the numeric data"
      ]
    },
    {
      "cell_type": "code",
      "execution_count": 9,
      "id": "57b6eecd",
      "metadata": {
        "colab": {
          "base_uri": "https://localhost:8080/",
          "height": 300
        },
        "id": "57b6eecd",
        "outputId": "94d6bf7e-7f41-48c3-a342-afbd36ec1653"
      },
      "outputs": [
        {
          "data": {
            "text/html": [
              "<div>\n",
              "<style scoped>\n",
              "    .dataframe tbody tr th:only-of-type {\n",
              "        vertical-align: middle;\n",
              "    }\n",
              "\n",
              "    .dataframe tbody tr th {\n",
              "        vertical-align: top;\n",
              "    }\n",
              "\n",
              "    .dataframe thead th {\n",
              "        text-align: right;\n",
              "    }\n",
              "</style>\n",
              "<table border=\"1\" class=\"dataframe\">\n",
              "  <thead>\n",
              "    <tr style=\"text-align: right;\">\n",
              "      <th></th>\n",
              "      <th>Age</th>\n",
              "      <th>RestingBP</th>\n",
              "      <th>Cholesterol</th>\n",
              "      <th>FastingBS</th>\n",
              "      <th>MaxHR</th>\n",
              "      <th>Oldpeak</th>\n",
              "      <th>HeartDisease</th>\n",
              "      <th>Sex_F</th>\n",
              "      <th>Sex_M</th>\n",
              "      <th>ChestPainType_ASY</th>\n",
              "      <th>...</th>\n",
              "      <th>ChestPainType_NAP</th>\n",
              "      <th>ChestPainType_TA</th>\n",
              "      <th>RestingECG_LVH</th>\n",
              "      <th>RestingECG_Normal</th>\n",
              "      <th>RestingECG_ST</th>\n",
              "      <th>ExerciseAngina_N</th>\n",
              "      <th>ExerciseAngina_Y</th>\n",
              "      <th>ST_Slope_Down</th>\n",
              "      <th>ST_Slope_Flat</th>\n",
              "      <th>ST_Slope_Up</th>\n",
              "    </tr>\n",
              "  </thead>\n",
              "  <tbody>\n",
              "    <tr>\n",
              "      <th>0</th>\n",
              "      <td>-1.433140</td>\n",
              "      <td>0.410909</td>\n",
              "      <td>0.825070</td>\n",
              "      <td>0</td>\n",
              "      <td>1.382928</td>\n",
              "      <td>-0.832432</td>\n",
              "      <td>0</td>\n",
              "      <td>0.0</td>\n",
              "      <td>1.0</td>\n",
              "      <td>0.0</td>\n",
              "      <td>...</td>\n",
              "      <td>0.0</td>\n",
              "      <td>0.0</td>\n",
              "      <td>0.0</td>\n",
              "      <td>1.0</td>\n",
              "      <td>0.0</td>\n",
              "      <td>1.0</td>\n",
              "      <td>0.0</td>\n",
              "      <td>0.0</td>\n",
              "      <td>0.0</td>\n",
              "      <td>1.0</td>\n",
              "    </tr>\n",
              "    <tr>\n",
              "      <th>1</th>\n",
              "      <td>-0.478484</td>\n",
              "      <td>1.491752</td>\n",
              "      <td>-0.171961</td>\n",
              "      <td>0</td>\n",
              "      <td>0.754157</td>\n",
              "      <td>0.105664</td>\n",
              "      <td>1</td>\n",
              "      <td>1.0</td>\n",
              "      <td>0.0</td>\n",
              "      <td>0.0</td>\n",
              "      <td>...</td>\n",
              "      <td>1.0</td>\n",
              "      <td>0.0</td>\n",
              "      <td>0.0</td>\n",
              "      <td>1.0</td>\n",
              "      <td>0.0</td>\n",
              "      <td>1.0</td>\n",
              "      <td>0.0</td>\n",
              "      <td>0.0</td>\n",
              "      <td>1.0</td>\n",
              "      <td>0.0</td>\n",
              "    </tr>\n",
              "    <tr>\n",
              "      <th>2</th>\n",
              "      <td>-1.751359</td>\n",
              "      <td>-0.129513</td>\n",
              "      <td>0.770188</td>\n",
              "      <td>0</td>\n",
              "      <td>-1.525138</td>\n",
              "      <td>-0.832432</td>\n",
              "      <td>0</td>\n",
              "      <td>0.0</td>\n",
              "      <td>1.0</td>\n",
              "      <td>0.0</td>\n",
              "      <td>...</td>\n",
              "      <td>0.0</td>\n",
              "      <td>0.0</td>\n",
              "      <td>0.0</td>\n",
              "      <td>0.0</td>\n",
              "      <td>1.0</td>\n",
              "      <td>1.0</td>\n",
              "      <td>0.0</td>\n",
              "      <td>0.0</td>\n",
              "      <td>0.0</td>\n",
              "      <td>1.0</td>\n",
              "    </tr>\n",
              "    <tr>\n",
              "      <th>3</th>\n",
              "      <td>-0.584556</td>\n",
              "      <td>0.302825</td>\n",
              "      <td>0.139040</td>\n",
              "      <td>0</td>\n",
              "      <td>-1.132156</td>\n",
              "      <td>0.574711</td>\n",
              "      <td>1</td>\n",
              "      <td>1.0</td>\n",
              "      <td>0.0</td>\n",
              "      <td>1.0</td>\n",
              "      <td>...</td>\n",
              "      <td>0.0</td>\n",
              "      <td>0.0</td>\n",
              "      <td>0.0</td>\n",
              "      <td>1.0</td>\n",
              "      <td>0.0</td>\n",
              "      <td>0.0</td>\n",
              "      <td>1.0</td>\n",
              "      <td>0.0</td>\n",
              "      <td>1.0</td>\n",
              "      <td>0.0</td>\n",
              "    </tr>\n",
              "    <tr>\n",
              "      <th>4</th>\n",
              "      <td>0.051881</td>\n",
              "      <td>0.951331</td>\n",
              "      <td>-0.034755</td>\n",
              "      <td>0</td>\n",
              "      <td>-0.581981</td>\n",
              "      <td>-0.832432</td>\n",
              "      <td>0</td>\n",
              "      <td>0.0</td>\n",
              "      <td>1.0</td>\n",
              "      <td>0.0</td>\n",
              "      <td>...</td>\n",
              "      <td>1.0</td>\n",
              "      <td>0.0</td>\n",
              "      <td>0.0</td>\n",
              "      <td>1.0</td>\n",
              "      <td>0.0</td>\n",
              "      <td>1.0</td>\n",
              "      <td>0.0</td>\n",
              "      <td>0.0</td>\n",
              "      <td>0.0</td>\n",
              "      <td>1.0</td>\n",
              "    </tr>\n",
              "  </tbody>\n",
              "</table>\n",
              "<p>5 rows × 21 columns</p>\n",
              "</div>"
            ],
            "text/plain": [
              "        Age  RestingBP  Cholesterol  FastingBS     MaxHR   Oldpeak  \\\n",
              "0 -1.433140   0.410909     0.825070          0  1.382928 -0.832432   \n",
              "1 -0.478484   1.491752    -0.171961          0  0.754157  0.105664   \n",
              "2 -1.751359  -0.129513     0.770188          0 -1.525138 -0.832432   \n",
              "3 -0.584556   0.302825     0.139040          0 -1.132156  0.574711   \n",
              "4  0.051881   0.951331    -0.034755          0 -0.581981 -0.832432   \n",
              "\n",
              "   HeartDisease  Sex_F  Sex_M  ChestPainType_ASY  ...  ChestPainType_NAP  \\\n",
              "0             0    0.0    1.0                0.0  ...                0.0   \n",
              "1             1    1.0    0.0                0.0  ...                1.0   \n",
              "2             0    0.0    1.0                0.0  ...                0.0   \n",
              "3             1    1.0    0.0                1.0  ...                0.0   \n",
              "4             0    0.0    1.0                0.0  ...                1.0   \n",
              "\n",
              "   ChestPainType_TA  RestingECG_LVH  RestingECG_Normal  RestingECG_ST  \\\n",
              "0               0.0             0.0                1.0            0.0   \n",
              "1               0.0             0.0                1.0            0.0   \n",
              "2               0.0             0.0                0.0            1.0   \n",
              "3               0.0             0.0                1.0            0.0   \n",
              "4               0.0             0.0                1.0            0.0   \n",
              "\n",
              "   ExerciseAngina_N  ExerciseAngina_Y  ST_Slope_Down  ST_Slope_Flat  \\\n",
              "0               1.0               0.0            0.0            0.0   \n",
              "1               1.0               0.0            0.0            1.0   \n",
              "2               1.0               0.0            0.0            0.0   \n",
              "3               0.0               1.0            0.0            1.0   \n",
              "4               1.0               0.0            0.0            0.0   \n",
              "\n",
              "   ST_Slope_Up  \n",
              "0          1.0  \n",
              "1          0.0  \n",
              "2          1.0  \n",
              "3          0.0  \n",
              "4          1.0  \n",
              "\n",
              "[5 rows x 21 columns]"
            ]
          },
          "execution_count": 9,
          "metadata": {},
          "output_type": "execute_result"
        }
      ],
      "source": [
        "scaler=StandardScaler()\n",
        "heartdf[[\"Age\",\"RestingBP\",\"Cholesterol\",\"MaxHR\",\"Oldpeak\"]]=scaler.fit_transform(heartdf[[\"Age\",\"RestingBP\",\"Cholesterol\",\"MaxHR\",\"Oldpeak\"]])\n",
        "heartdf.head()"
      ]
    },
    {
      "attachments": {},
      "cell_type": "markdown",
      "id": "fdf180f1",
      "metadata": {
        "id": "fdf180f1"
      },
      "source": [
        "### Feature Selection Using Corelation matrix"
      ]
    },
    {
      "cell_type": "code",
      "execution_count": 10,
      "id": "e8906bcd",
      "metadata": {
        "colab": {
          "base_uri": "https://localhost:8080/",
          "height": 938
        },
        "id": "e8906bcd",
        "outputId": "7300abfb-06ef-4402-9e2e-ad657a2963bf"
      },
      "outputs": [
        {
          "data": {
            "text/plain": [
              "<AxesSubplot:title={'center':'Correlation Matrix'}>"
            ]
          },
          "execution_count": 10,
          "metadata": {},
          "output_type": "execute_result"
        },
        {
          "data": {
            "image/png": "[encoded data removed]",
            "text/plain": [
              "<Figure size 720x576 with 2 Axes>"
            ]
          },
          "metadata": {
            "needs_background": "light"
          },
          "output_type": "display_data"
        }
      ],
      "source": [
        "correlation_matrix = heartdf.corr()\n",
        "plt.figure(figsize=(10, 8))\n",
        "sns.set(font_scale=1.5)\n",
        "plt.title('Correlation Matrix')\n",
        "sns.heatmap(correlation_matrix,cmap='coolwarm')"
      ]
    },
    {
      "cell_type": "code",
      "execution_count": 11,
      "id": "263f7401",
      "metadata": {
        "colab": {
          "base_uri": "https://localhost:8080/"
        },
        "id": "263f7401",
        "outputId": "e3deab68-8895-42a3-916a-87e4c69816a3"
      },
      "outputs": [
        {
          "data": {
            "text/plain": [
              "Index(['Age', 'RestingBP', 'Cholesterol', 'FastingBS', 'MaxHR', 'Oldpeak',\n",
              "       'HeartDisease', 'Sex_F', 'Sex_M', 'ChestPainType_ASY',\n",
              "       'ChestPainType_ATA', 'ChestPainType_NAP', 'RestingECG_ST',\n",
              "       'ExerciseAngina_N', 'ExerciseAngina_Y', 'ST_Slope_Down',\n",
              "       'ST_Slope_Flat', 'ST_Slope_Up'],\n",
              "      dtype='object')"
            ]
          },
          "execution_count": 11,
          "metadata": {},
          "output_type": "execute_result"
        }
      ],
      "source": [
        "threshold = 0.10\n",
        "columns_to_delete = correlation_matrix[(correlation_matrix['HeartDisease'] < threshold) & (correlation_matrix['HeartDisease'] > -threshold)].index\n",
        "heartdf.drop(columns_to_delete, axis=1, inplace=True)\n",
        "heartdf.columns"
      ]
    },
    {
      "attachments": {},
      "cell_type": "markdown",
      "id": "1c21d91f",
      "metadata": {
        "id": "1c21d91f"
      },
      "source": [
        "## Model Development"
      ]
    },
    {
      "attachments": {},
      "cell_type": "markdown",
      "id": "acfa1b5a",
      "metadata": {
        "id": "acfa1b5a"
      },
      "source": [
        "### Spliting Data"
      ]
    },
    {
      "attachments": {},
      "cell_type": "markdown",
      "id": "a877a356",
      "metadata": {
        "id": "a877a356"
      },
      "source": [
        "Here, we split the dataset into target and features and then training and testing data. As dataset is not evenly distributed, we are using f1_score as an evalution matrix."
      ]
    },
    {
      "cell_type": "code",
      "execution_count": 12,
      "id": "cf8107b6",
      "metadata": {
        "id": "cf8107b6"
      },
      "outputs": [],
      "source": [
        "f1_score = {\"KNC\":0, \"SVC\":0, \"DTC\":0, \"RFC\":0, \"LR\":0}\n",
        "y=heartdf[\"HeartDisease\"]\n",
        "heartdf.drop([\"HeartDisease\"],axis=1,inplace=True)\n",
        "X=heartdf"
      ]
    },
    {
      "attachments": {},
      "cell_type": "markdown",
      "id": "8849c2bd",
      "metadata": {
        "id": "8849c2bd"
      },
      "source": [
        "Here, we are taking Random Forest Classifier, KNClassifier, Decision Tree, Support vector Machine and Logistic Regression as classification prediction model. We are also using gridSearchCV to predict the best parameters."
      ]
    },
    {
      "attachments": {},
      "cell_type": "markdown",
      "id": "b22aa80a",
      "metadata": {
        "id": "b22aa80a"
      },
      "source": [
        "### KNeighborsClassifier"
      ]
    },
    {
      "cell_type": "code",
      "execution_count": 13,
      "id": "d26f0324",
      "metadata": {
        "colab": {
          "base_uri": "https://localhost:8080/"
        },
        "id": "d26f0324",
        "outputId": "53e615bc-f11a-48f9-e978-99df7b9d0a62"
      },
      "outputs": [
        {
          "name": "stdout",
          "output_type": "stream",
          "text": [
            "Best Parameters: {'n_neighbors': 13}\n",
            "              precision    recall  f1-score   support\n",
            "\n",
            "           0       0.88      0.84      0.86       410\n",
            "           1       0.88      0.91      0.89       508\n",
            "\n",
            "    accuracy                           0.88       918\n",
            "   macro avg       0.88      0.88      0.88       918\n",
            "weighted avg       0.88      0.88      0.88       918\n",
            "\n",
            "Best Score: 0.8613438739101518\n"
          ]
        }
      ],
      "source": [
        "param_grid_KNC = {\n",
        "    'n_neighbors': list(range(1,31))\n",
        "}\n",
        "knc = GridSearchCV(KNeighborsClassifier(), param_grid_KNC, scoring='f1', n_jobs=-1, refit=True, cv=5)\n",
        "knc.fit(X, y)\n",
        "model = knc.best_estimator_\n",
        "y_pred = model.predict(X)\n",
        "f1_score[\"KNC\"] = knc.best_score_\n",
        "print(\"Best Parameters:\", knc.best_params_)\n",
        "print(classification_report(y,y_pred))\n",
        "print(\"Best Score:\", knc.best_score_)"
      ]
    },
    {
      "attachments": {},
      "cell_type": "markdown",
      "id": "4bcfeffd",
      "metadata": {
        "id": "4bcfeffd"
      },
      "source": [
        "### Support Vector Machine"
      ]
    },
    {
      "cell_type": "code",
      "execution_count": 14,
      "id": "F1x4FWSLlJon",
      "metadata": {
        "colab": {
          "base_uri": "https://localhost:8080/"
        },
        "id": "F1x4FWSLlJon",
        "outputId": "da900240-10e3-4bec-80a0-33e5ff45285d"
      },
      "outputs": [
        {
          "name": "stdout",
          "output_type": "stream",
          "text": [
            "Best Parameters: {'C': 0.1, 'kernel': 'rbf'}\n",
            "              precision    recall  f1-score   support\n",
            "\n",
            "           0       0.90      0.81      0.85       410\n",
            "           1       0.86      0.93      0.89       508\n",
            "\n",
            "    accuracy                           0.88       918\n",
            "   macro avg       0.88      0.87      0.87       918\n",
            "weighted avg       0.88      0.88      0.88       918\n",
            "\n",
            "Best Score: 0.8545210754672684\n"
          ]
        }
      ],
      "source": [
        "param_grid_SVC = {\n",
        "    'C': [0.01, 0.1, 1, 10, 100],\n",
        "    'kernel': ['linear', 'poly', 'rbf', 'sigmoid']\n",
        "}\n",
        "svc = GridSearchCV(SVC(), param_grid_SVC, scoring='f1', n_jobs=-1, refit=True, cv=5)\n",
        "svc.fit(X, y)\n",
        "model = svc.best_estimator_\n",
        "y_pred = model.predict(X)\n",
        "f1_score[\"SVC\"] = svc.best_score_\n",
        "print(\"Best Parameters:\", svc.best_params_)\n",
        "print(classification_report(y,y_pred))\n",
        "print(\"Best Score:\", svc.best_score_)"
      ]
    },
    {
      "attachments": {},
      "cell_type": "markdown",
      "id": "e6826264",
      "metadata": {
        "id": "e6826264"
      },
      "source": [
        "### Decision Trees"
      ]
    },
    {
      "cell_type": "code",
      "execution_count": 15,
      "id": "rBYpCgrBp6F9",
      "metadata": {
        "colab": {
          "base_uri": "https://localhost:8080/"
        },
        "id": "rBYpCgrBp6F9",
        "outputId": "d33b3236-0098-497f-8e4d-9b8bbd7187a2"
      },
      "outputs": [
        {
          "name": "stdout",
          "output_type": "stream",
          "text": [
            "Best Parameters: {'criterion': 'entropy'}\n",
            "              precision    recall  f1-score   support\n",
            "\n",
            "           0       1.00      1.00      1.00       410\n",
            "           1       1.00      1.00      1.00       508\n",
            "\n",
            "    accuracy                           1.00       918\n",
            "   macro avg       1.00      1.00      1.00       918\n",
            "weighted avg       1.00      1.00      1.00       918\n",
            "\n",
            "Best Score: 0.7563187383303853\n"
          ]
        }
      ],
      "source": [
        "param_grid_DTC = {\n",
        "    'criterion': ['gini', 'entropy', 'log_loss']\n",
        "}\n",
        "dtc = GridSearchCV(DecisionTreeClassifier(), param_grid_DTC, scoring='f1', n_jobs=-1, refit=True, cv=5)\n",
        "dtc.fit(X, y)\n",
        "model = dtc.best_estimator_\n",
        "y_pred = model.predict(X)\n",
        "f1_score[\"DTC\"] = dtc.best_score_\n",
        "print(\"Best Parameters:\", dtc.best_params_)\n",
        "print(classification_report(y,y_pred))\n",
        "print(\"Best Score:\", dtc.best_score_)"
      ]
    },
    {
      "attachments": {},
      "cell_type": "markdown",
      "id": "7de442be",
      "metadata": {
        "id": "7de442be"
      },
      "source": [
        "### Random Forest Classifier"
      ]
    },
    {
      "cell_type": "code",
      "execution_count": 16,
      "id": "RXilA1jCuqQR",
      "metadata": {
        "colab": {
          "base_uri": "https://localhost:8080/"
        },
        "id": "RXilA1jCuqQR",
        "outputId": "ee7528f9-2e65-41ff-eca6-220777331232"
      },
      "outputs": [
        {
          "name": "stdout",
          "output_type": "stream",
          "text": [
            "Best Parameters: {'criterion': 'gini', 'n_estimators': 70}\n",
            "              precision    recall  f1-score   support\n",
            "\n",
            "           0       1.00      1.00      1.00       410\n",
            "           1       1.00      1.00      1.00       508\n",
            "\n",
            "    accuracy                           1.00       918\n",
            "   macro avg       1.00      1.00      1.00       918\n",
            "weighted avg       1.00      1.00      1.00       918\n",
            "\n",
            "Best Score: 0.8557928678894513\n"
          ]
        }
      ],
      "source": [
        "param_grid_RFC = {\n",
        "    'n_estimators': list(range(10,200,10)),\n",
        "    'criterion': ['gini', 'entropy', 'log_loss']\n",
        "}\n",
        "rfc = GridSearchCV(RandomForestClassifier(), param_grid_RFC, scoring='f1', n_jobs=-1, refit=True, cv=5)\n",
        "rfc.fit(X, y)\n",
        "model = rfc.best_estimator_\n",
        "y_pred = model.predict(X)\n",
        "f1_score[\"RFC\"] = rfc.best_score_\n",
        "print(\"Best Parameters:\", rfc.best_params_)\n",
        "print(classification_report(y,y_pred))\n",
        "print(\"Best Score:\", rfc.best_score_)"
      ]
    },
    {
      "attachments": {},
      "cell_type": "markdown",
      "id": "24e28593",
      "metadata": {
        "id": "24e28593"
      },
      "source": [
        "### Logistics Regression"
      ]
    },
    {
      "cell_type": "code",
      "execution_count": 17,
      "id": "jYpRFidLyjYb",
      "metadata": {
        "colab": {
          "base_uri": "https://localhost:8080/"
        },
        "id": "jYpRFidLyjYb",
        "outputId": "78af2988-3aa6-4ece-a833-791c61973be2"
      },
      "outputs": [
        {
          "name": "stdout",
          "output_type": "stream",
          "text": [
            "Best Parameters: {'C': 1, 'penalty': 'l1', 'solver': 'saga'}\n",
            "              precision    recall  f1-score   support\n",
            "\n",
            "           0       0.87      0.83      0.85       410\n",
            "           1       0.87      0.90      0.88       508\n",
            "\n",
            "    accuracy                           0.87       918\n",
            "   macro avg       0.87      0.87      0.87       918\n",
            "weighted avg       0.87      0.87      0.87       918\n",
            "\n",
            "Best Score: 0.8489022210858861\n"
          ]
        }
      ],
      "source": [
        "param_grid_LR = {\n",
        "    'penalty': ['l1', 'l2', 'elasticnet'],\n",
        "    'C': [0.01, 0.1, 1, 10, 100],\n",
        "    'solver': ['lbfgs', 'liblinear', 'newton-cg', 'newton-cholesky', 'sag', 'saga']\n",
        "}\n",
        "lr = GridSearchCV(LogisticRegression(), param_grid_LR, scoring='f1', n_jobs=-1, refit=True, cv=5)\n",
        "lr.fit(X, y)\n",
        "model = lr.best_estimator_\n",
        "y_pred = model.predict(X)\n",
        "f1_score[\"LR\"] = lr.best_score_\n",
        "print(\"Best Parameters:\", lr.best_params_)\n",
        "print(classification_report(y,y_pred))\n",
        "print(\"Best Score:\", lr.best_score_)"
      ]
    },
    {
      "attachments": {},
      "cell_type": "markdown",
      "id": "cdff3089",
      "metadata": {
        "id": "cdff3089"
      },
      "source": [
        "### Model Comparison"
      ]
    },
    {
      "cell_type": "code",
      "execution_count": 18,
      "id": "0f7b1737",
      "metadata": {
        "colab": {
          "base_uri": "https://localhost:8080/",
          "height": 470
        },
        "id": "0f7b1737",
        "outputId": "ae33c107-a405-40b5-bc8e-3cf212083aee"
      },
      "outputs": [
        {
          "data": {
            "image/png": "[encoded data removed]",
            "text/plain": [
              "<Figure size 432x288 with 1 Axes>"
            ]
          },
          "metadata": {},
          "output_type": "display_data"
        }
      ],
      "source": [
        "import matplotlib.pyplot as plt\n",
        "sorted_f1_score = dict(sorted(f1_score.items(), key=lambda x:x[1]))\n",
        "plt.plot(*zip(*sorted_f1_score.items()))\n",
        "plt.title(\"Best performing algorithm is \" + list(sorted_f1_score.keys())[-1])\n",
        "plt.show()"
      ]
    }
  ],
  "metadata": {
    "colab": {
      "provenance": []
    },
    "kernelspec": {
      "display_name": "Python 3 (ipykernel)",
      "language": "python",
      "name": "python3"
    },
    "language_info": {
      "codemirror_mode": {
        "name": "ipython",
        "version": 3
      },
      "file_extension": ".py",
      "mimetype": "text/x-python",
      "name": "python",
      "nbconvert_exporter": "python",
      "pygments_lexer": "ipython3",
      "version": "3.10.5"
    }
  },
  "nbformat": 4,
  "nbformat_minor": 5
}
